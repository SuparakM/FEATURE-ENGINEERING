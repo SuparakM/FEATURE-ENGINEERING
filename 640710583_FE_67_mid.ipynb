{
 "cells": [
  {
   "cell_type": "markdown",
   "metadata": {
    "id": "6QMyvkoATFBo"
   },
   "source": [
    "**ข้อสอบ กลางภาค ปฏิบัติการ ปี 2567**\n",
    "ดาวน์โหลด dataset จาก https://drive.google.com/file/d/1HkDLY5_Gnam7NDyelOUwThA-CDz3MP8M/view?usp=sharing\n",
    "\n",
    "และไฟล์ jupyternotebook จาก https://colab.research.google.com/drive/1s3FWPypQF2HqhzaBoNXZss3plgN2WcIf?usp=sharing\n"
   ]
  },
  {
   "cell_type": "code",
   "execution_count": 73,
   "metadata": {
    "id": "Bq7t4HlEYuNB"
   },
   "outputs": [
    {
     "name": "stdout",
     "output_type": "stream",
     "text": [
      "      year        make                model           trim       body  \\\n",
      "0     2015         Kia              Sorento             LX        SUV   \n",
      "1     2015         Kia              Sorento             LX        SUV   \n",
      "2     2014         BMW             3 Series     328i SULEV      Sedan   \n",
      "3     2015       Volvo                  S60             T5      Sedan   \n",
      "4     2014         BMW  6 Series Gran Coupe           650i      Sedan   \n",
      "...    ...         ...                  ...            ...        ...   \n",
      "1733  2012      Nissan                Versa          1.6 S      Sedan   \n",
      "1734  2012       smart               fortwo  passion coupe  Hatchback   \n",
      "1735  2012      Nissan               Altima          2.5 S      Sedan   \n",
      "1736  2012  mitsubishi               galant            NaN        NaN   \n",
      "1737  2012      Nissan               Altima          2.5 S      Sedan   \n",
      "\n",
      "     transmission                vin state  condition  odometer   color  \\\n",
      "0       automatic  5xyktca69fg566472    ca        5.0     16639   white   \n",
      "1       automatic  5xyktca69fg561319    ca        5.0      9393   white   \n",
      "2       automatic  wba3c1c51ek116351    ca        4.5      1331    gray   \n",
      "3       automatic  yv1612tb4f1310987    ca        4.1     14282   white   \n",
      "4       automatic  wba6b2c57ed129731    ca        4.3      2641    gray   \n",
      "...           ...                ...   ...        ...       ...     ...   \n",
      "1733    automatic  3n1cn7ap7cl866033    ca        4.4     53923    blue   \n",
      "1734    automatic  wmeej3baxck524809    ca        4.4     39963  silver   \n",
      "1735    automatic  1n4al2ap3cn413739    ca        4.1      6265   black   \n",
      "1736    automatic  4a32b2ff9ce018740    ca        4.1     65632   white   \n",
      "1737    automatic  1n4al2ap7cn432892    ca        3.2     23090   white   \n",
      "\n",
      "     interior                                  seller    mmr  sellingprice  \\\n",
      "0       black                 kia motors america, inc  20500         21500   \n",
      "1       beige                 kia motors america, inc  20800         21500   \n",
      "2       black  financial services remarketing (lease)  31900         30000   \n",
      "3       black                 volvo na rep/world omni  27500         27750   \n",
      "4       black  financial services remarketing (lease)  66000         67000   \n",
      "...       ...                                     ...    ...           ...   \n",
      "1733    black                     exeter finance corp   7925          8200   \n",
      "1734    black        mercedes-benz financial services   5975          7250   \n",
      "1735     gray                      nissan-infiniti lt  14250         13000   \n",
      "1736     gray                      dtg operations inc   7900          8000   \n",
      "1737    black                      nissan-infiniti lt  13150         12750   \n",
      "\n",
      "                                     saledate  \n",
      "0     Tue Dec 16 2014 12:30:00 GMT-0800 (PST)  \n",
      "1     Tue Dec 16 2014 12:30:00 GMT-0800 (PST)  \n",
      "2     Thu Jan 15 2015 04:30:00 GMT-0800 (PST)  \n",
      "3     Thu Jan 29 2015 04:30:00 GMT-0800 (PST)  \n",
      "4     Thu Dec 18 2014 12:30:00 GMT-0800 (PST)  \n",
      "...                                       ...  \n",
      "1733  Thu Dec 18 2014 12:00:00 GMT-0800 (PST)  \n",
      "1734  Thu Dec 18 2014 12:30:00 GMT-0800 (PST)  \n",
      "1735  Tue Dec 16 2014 12:30:00 GMT-0800 (PST)  \n",
      "1736  Wed Dec 17 2014 12:30:00 GMT-0800 (PST)  \n",
      "1737  Tue Dec 16 2014 12:30:00 GMT-0800 (PST)  \n",
      "\n",
      "[1738 rows x 16 columns]\n"
     ]
    }
   ],
   "source": [
    "#1 นำเข้า library ที่ต้องใช้\n",
    "import pandas as pd\n",
    "#2 อ่านข้อมูลจากไฟล์ CSV\n",
    "df = pd.read_csv(\"fe_m67_car_prices_cut.csv\") \n",
    "#3 แสดง DataFrame\n",
    "print(df)"
   ]
  },
  {
   "cell_type": "code",
   "execution_count": 74,
   "metadata": {
    "id": "WNlRXOUSiBNd"
   },
   "outputs": [
    {
     "name": "stdout",
     "output_type": "stream",
     "text": [
      "year             0\n",
      "make             9\n",
      "model           10\n",
      "trim            10\n",
      "body            36\n",
      "transmission    65\n",
      "vin              0\n",
      "state            0\n",
      "condition       52\n",
      "odometer         0\n",
      "color            2\n",
      "interior         2\n",
      "seller           0\n",
      "mmr              0\n",
      "sellingprice     0\n",
      "saledate         0\n",
      "dtype: int64\n"
     ]
    }
   ],
   "source": [
    "#4 ตรวจสอบจำนวนข้อมูลที่ขาดหายในแต่ละคอลัมน์\n",
    "missing_data = df.isnull().sum()\n",
    "print(missing_data)"
   ]
  },
  {
   "cell_type": "code",
   "execution_count": 75,
   "metadata": {
    "id": "DfpwONRnN8AI"
   },
   "outputs": [
    {
     "name": "stdout",
     "output_type": "stream",
     "text": [
      "      year    make                model           trim       body  \\\n",
      "0     2015     Kia              Sorento             LX        SUV   \n",
      "1     2015     Kia              Sorento             LX        SUV   \n",
      "2     2014     BMW             3 Series     328i SULEV      Sedan   \n",
      "3     2015   Volvo                  S60             T5      Sedan   \n",
      "4     2014     BMW  6 Series Gran Coupe           650i      Sedan   \n",
      "...    ...     ...                  ...            ...        ...   \n",
      "1732  2012  Nissan               Altima          2.5 S      Sedan   \n",
      "1733  2012  Nissan                Versa          1.6 S      Sedan   \n",
      "1734  2012   smart               fortwo  passion coupe  Hatchback   \n",
      "1735  2012  Nissan               Altima          2.5 S      Sedan   \n",
      "1737  2012  Nissan               Altima          2.5 S      Sedan   \n",
      "\n",
      "     transmission                vin state  condition  odometer   color  \\\n",
      "0       automatic  5xyktca69fg566472    ca        5.0     16639   white   \n",
      "1       automatic  5xyktca69fg561319    ca        5.0      9393   white   \n",
      "2       automatic  wba3c1c51ek116351    ca        4.5      1331    gray   \n",
      "3       automatic  yv1612tb4f1310987    ca        4.1     14282   white   \n",
      "4       automatic  wba6b2c57ed129731    ca        4.3      2641    gray   \n",
      "...           ...                ...   ...        ...       ...     ...   \n",
      "1732    automatic  1n4al2ap3cn429617    ca        3.8     36396       —   \n",
      "1733    automatic  3n1cn7ap7cl866033    ca        4.4     53923    blue   \n",
      "1734    automatic  wmeej3baxck524809    ca        4.4     39963  silver   \n",
      "1735    automatic  1n4al2ap3cn413739    ca        4.1      6265   black   \n",
      "1737    automatic  1n4al2ap7cn432892    ca        3.2     23090   white   \n",
      "\n",
      "     interior                                  seller    mmr  sellingprice  \\\n",
      "0       black                 kia motors america, inc  20500         21500   \n",
      "1       beige                 kia motors america, inc  20800         21500   \n",
      "2       black  financial services remarketing (lease)  31900         30000   \n",
      "3       black                 volvo na rep/world omni  27500         27750   \n",
      "4       black  financial services remarketing (lease)  66000         67000   \n",
      "...       ...                                     ...    ...           ...   \n",
      "1732    black                      nissan-infiniti lt  12250         12400   \n",
      "1733    black                     exeter finance corp   7925          8200   \n",
      "1734    black        mercedes-benz financial services   5975          7250   \n",
      "1735     gray                      nissan-infiniti lt  14250         13000   \n",
      "1737    black                      nissan-infiniti lt  13150         12750   \n",
      "\n",
      "                                     saledate  \n",
      "0     Tue Dec 16 2014 12:30:00 GMT-0800 (PST)  \n",
      "1     Tue Dec 16 2014 12:30:00 GMT-0800 (PST)  \n",
      "2     Thu Jan 15 2015 04:30:00 GMT-0800 (PST)  \n",
      "3     Thu Jan 29 2015 04:30:00 GMT-0800 (PST)  \n",
      "4     Thu Dec 18 2014 12:30:00 GMT-0800 (PST)  \n",
      "...                                       ...  \n",
      "1732  Wed Dec 17 2014 12:30:00 GMT-0800 (PST)  \n",
      "1733  Thu Dec 18 2014 12:00:00 GMT-0800 (PST)  \n",
      "1734  Thu Dec 18 2014 12:30:00 GMT-0800 (PST)  \n",
      "1735  Tue Dec 16 2014 12:30:00 GMT-0800 (PST)  \n",
      "1737  Tue Dec 16 2014 12:30:00 GMT-0800 (PST)  \n",
      "\n",
      "[1596 rows x 16 columns]\n",
      "0       automatic\n",
      "1       automatic\n",
      "2       automatic\n",
      "3       automatic\n",
      "4       automatic\n",
      "          ...    \n",
      "1733    automatic\n",
      "1734    automatic\n",
      "1735    automatic\n",
      "1736    automatic\n",
      "1737    automatic\n",
      "Name: transmission, Length: 1738, dtype: object\n"
     ]
    }
   ],
   "source": [
    "#5 ลบแถวที่มีข้อมูลหาย\n",
    "drop_missing_data = df.dropna()\n",
    "print(drop_missing_data)\n",
    "#5 จากข้อมูลคอลัมภ์ transmission ให้เติมค่าที่ข้อมูลหายด้ว ด้วยค่าก่อนหน้า\n",
    "fill_missing_data = df['transmission'].ffill()\n",
    "print(fill_missing_data)"
   ]
  },
  {
   "cell_type": "code",
   "execution_count": 76,
   "metadata": {
    "id": "MU8GjlGJb4w3"
   },
   "outputs": [],
   "source": [
    "#6 ทำการ normalization ตัวแปร sellingprice จาก df#2\n",
    "min_value = df['sellingprice'].min()\n",
    "max_value = df['sellingprice'].max()\n",
    "df['Normalized_sellingprice'] = (df['sellingprice'] - min_value) / (max_value - min_value)\n"
   ]
  },
  {
   "cell_type": "code",
   "execution_count": 77,
   "metadata": {
    "id": "X-LUO8sJeRBv"
   },
   "outputs": [],
   "source": [
    "#7 จงเลือกเฉพาะคอลัมภ์ที่เป็นตัวเลข\n",
    "numeric_columns = df.select_dtypes(include=[np.number])\n",
    "# หาค่า outlier ด้วย IQR\n",
    "#7.1 IQR method(Interquartile Range method)\n",
    "\n",
    "Q1 = numeric_columns.quantile(0.25)\n",
    "Q3 = numeric_columns.quantile(0.75)\n",
    "IQR = Q3 - Q1\n",
    "\n",
    "# Define a function to remove outliers\n",
    "def remove_outliers(column):\n",
    "    lower_bound = Q1[column] - 1.5 * IQR[column]\n",
    "    upper_bound = Q3[column] + 1.5 * IQR[column]\n",
    "    return df[(df[column] >= lower_bound) & (df[column] <= upper_bound)]\n",
    "\n",
    "df = remove_outliers('sellingprice')"
   ]
  },
  {
   "cell_type": "code",
   "execution_count": 78,
   "metadata": {
    "id": "9Se-Ysbbd4ib"
   },
   "outputs": [
    {
     "name": "stdout",
     "output_type": "stream",
     "text": [
      "      year        make     model           trim       body transmission  \\\n",
      "0     2015         Kia   Sorento             LX        SUV    automatic   \n",
      "1     2015         Kia   Sorento             LX        SUV    automatic   \n",
      "2     2014         BMW  3 Series     328i SULEV      Sedan    automatic   \n",
      "3     2015       Volvo       S60             T5      Sedan    automatic   \n",
      "5     2015      Nissan    Altima          2.5 S      Sedan    automatic   \n",
      "...    ...         ...       ...            ...        ...          ...   \n",
      "1733  2012      Nissan     Versa          1.6 S      Sedan    automatic   \n",
      "1734  2012       smart    fortwo  passion coupe  Hatchback    automatic   \n",
      "1735  2012      Nissan    Altima          2.5 S      Sedan    automatic   \n",
      "1736  2012  mitsubishi    galant            NaN        NaN    automatic   \n",
      "1737  2012      Nissan    Altima          2.5 S      Sedan    automatic   \n",
      "\n",
      "                    vin state  condition  odometer   color interior  \\\n",
      "0     5xyktca69fg566472    ca        5.0     16639   white    black   \n",
      "1     5xyktca69fg561319    ca        5.0      9393   white    beige   \n",
      "2     wba3c1c51ek116351    ca        4.5      1331    gray    black   \n",
      "3     yv1612tb4f1310987    ca        4.1     14282   white    black   \n",
      "5     1n4al3ap1fn326013    ca        1.0      5554    gray    black   \n",
      "...                 ...   ...        ...       ...     ...      ...   \n",
      "1733  3n1cn7ap7cl866033    ca        4.4     53923    blue    black   \n",
      "1734  wmeej3baxck524809    ca        4.4     39963  silver    black   \n",
      "1735  1n4al2ap3cn413739    ca        4.1      6265   black     gray   \n",
      "1736  4a32b2ff9ce018740    ca        4.1     65632   white     gray   \n",
      "1737  1n4al2ap7cn432892    ca        3.2     23090   white    black   \n",
      "\n",
      "                                                 seller    mmr  sellingprice  \\\n",
      "0                               kia motors america, inc  20500         21500   \n",
      "1                               kia motors america, inc  20800         21500   \n",
      "2                financial services remarketing (lease)  31900         30000   \n",
      "3                               volvo na rep/world omni  27500         27750   \n",
      "5     enterprise vehicle exchange / tra / rental / t...  15350         10900   \n",
      "...                                                 ...    ...           ...   \n",
      "1733                                exeter finance corp   7925          8200   \n",
      "1734                   mercedes-benz financial services   5975          7250   \n",
      "1735                                 nissan-infiniti lt  14250         13000   \n",
      "1736                                 dtg operations inc   7900          8000   \n",
      "1737                                 nissan-infiniti lt  13150         12750   \n",
      "\n",
      "                                     saledate  Normalized_sellingprice  \n",
      "0     Tue Dec 16 2014 12:30:00 GMT-0800 (PST)                 0.133987  \n",
      "1     Tue Dec 16 2014 12:30:00 GMT-0800 (PST)                 0.133987  \n",
      "2     Thu Jan 15 2015 04:30:00 GMT-0800 (PST)                 0.189542  \n",
      "3     Thu Jan 29 2015 04:30:00 GMT-0800 (PST)                 0.174837  \n",
      "5     Tue Dec 30 2014 12:00:00 GMT-0800 (PST)                 0.064706  \n",
      "...                                       ...                      ...  \n",
      "1733  Thu Dec 18 2014 12:00:00 GMT-0800 (PST)                 0.047059  \n",
      "1734  Thu Dec 18 2014 12:30:00 GMT-0800 (PST)                 0.040850  \n",
      "1735  Tue Dec 16 2014 12:30:00 GMT-0800 (PST)                 0.078431  \n",
      "1736  Wed Dec 17 2014 12:30:00 GMT-0800 (PST)                 0.045752  \n",
      "1737  Tue Dec 16 2014 12:30:00 GMT-0800 (PST)                 0.076797  \n",
      "\n",
      "[1654 rows x 17 columns]\n"
     ]
    }
   ],
   "source": [
    "# แสดงค่าใน dataframe\n",
    "print(df)"
   ]
  },
  {
   "cell_type": "code",
   "execution_count": 79,
   "metadata": {
    "id": "hDGaqgAZhY9Q"
   },
   "outputs": [
    {
     "data": {
      "image/png": "[encoded data removed]",
      "text/plain": [
       "<Figure size 1000x600 with 1 Axes>"
      ]
     },
     "metadata": {},
     "output_type": "display_data"
    }
   ],
   "source": [
    "#7.2 แสดง box plot\n",
    "import matplotlib.pyplot as plt\n",
    "columns_to_plot = ['sellingprice', 'odometer', 'Normalized_sellingprice']\n",
    "\n",
    "plt.figure(figsize=(10, 6))\n",
    "df.boxplot(column=columns_to_plot)\n",
    "plt.title('Boxplot of Selected Features')\n",
    "plt.xlabel('Features')\n",
    "plt.ylabel('Values')\n",
    "plt.show()"
   ]
  },
  {
   "cell_type": "code",
   "execution_count": null,
   "metadata": {
    "id": "ej518k4pXQBA"
   },
   "outputs": [],
   "source": []
  }
 ],
 "metadata": {
  "colab": {
   "provenance": []
  },
  "kernelspec": {
   "display_name": "Python 3 (ipykernel)",
   "language": "python",
   "name": "python3"
  },
  "language_info": {
   "codemirror_mode": {
    "name": "ipython",
    "version": 3
   },
   "file_extension": ".py",
   "mimetype": "text/x-python",
   "name": "python",
   "nbconvert_exporter": "python",
   "pygments_lexer": "ipython3",
   "version": "3.11.7"
  }
 },
 "nbformat": 4,
 "nbformat_minor": 4
}
