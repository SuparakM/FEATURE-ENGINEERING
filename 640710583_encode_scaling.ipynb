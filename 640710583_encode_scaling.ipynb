{
 "cells": [
  {
   "cell_type": "markdown",
   "id": "2d3e1d20-6f9f-42cb-82d5-5eb1b7f202f5",
   "metadata": {},
   "source": [
    "# จําลองข้อมูลขนาดเล็กมาทําให้เห็นชัดๆก่อน\n",
    "เริ่มจากเราต้อง import ไลบราลีที่ต้องการทํากับข้อมูลก่อน 2 ตัวคือ"
   ]
  },
  {
   "cell_type": "code",
   "execution_count": 57,
   "id": "d9dbf512-da57-4f48-a975-af33fc56a615",
   "metadata": {},
   "outputs": [],
   "source": [
    "import numpy as np\n",
    "import pandas as pd"
   ]
  },
  {
   "cell_type": "markdown",
   "id": "1f2f485e-43a0-4799-839b-db9a5414fff5",
   "metadata": {},
   "source": [
    "สร้างข้อมูล 5 ตัวอย่างและมี 3 คอลัมภ์ ในอาร์เรย์ แล้วเก็บใส่ DataFrame"
   ]
  },
  {
   "cell_type": "code",
   "execution_count": 58,
   "id": "a9419813-14cb-4719-8fac-51aa2466c0f0",
   "metadata": {},
   "outputs": [
    {
     "name": "stdout",
     "output_type": "stream",
     "text": [
      "  sex blood_type edu_level\n",
      "0   M         O-    medium\n",
      "1   M         O-      high\n",
      "2   F         O+      high\n",
      "3   F         AB       low\n",
      "4   F         B+       nan\n"
     ]
    }
   ],
   "source": [
    "X = pd.DataFrame( np.array(['M','O-','medium','M','O-','high','F','O+','high','F','AB','low','F','B+',np.NaN,]).reshape((5,3)))\n",
    "X.columns = ['sex','blood_type','edu_level']\n",
    "print(X)"
   ]
  },
  {
   "cell_type": "markdown",
   "id": "c2de13dd-2c86-48d4-8923-4595dd6b329d",
   "metadata": {},
   "source": [
    "# มาทํา Ordinal Encode กันเถอะ\n",
    "เริ่มจากเราต้อง import ไลบราลี OrdinalEncoder สําหรับการเข้ารหัสตัวเลข"
   ]
  },
  {
   "cell_type": "code",
   "execution_count": 59,
   "id": "9f9c1b78-eb6b-4dfc-a036-0b0fc0935bce",
   "metadata": {},
   "outputs": [],
   "source": [
    "from sklearn.preprocessing import OrdinalEncoder"
   ]
  },
  {
   "cell_type": "markdown",
   "id": "34340a42-5047-4a14-b568-356decbcde8f",
   "metadata": {},
   "source": [
    "ทําการสร้าง instance ของคลาส OrdinalEncoder ก่อน แล้วเรียก fit_transform()"
   ]
  },
  {
   "cell_type": "code",
   "execution_count": 60,
   "id": "60d086ac-6b9b-4aa3-a9c7-795ebc8a8f62",
   "metadata": {},
   "outputs": [
    {
     "name": "stdout",
     "output_type": "stream",
     "text": [
      "  sex blood_type edu_level  new_edu_level\n",
      "0   M         O-    medium            2.0\n",
      "1   M         O-      high            0.0\n",
      "2   F         O+      high            0.0\n",
      "3   F         AB       low            1.0\n",
      "4   F         B+       nan            3.0\n"
     ]
    }
   ],
   "source": [
    "encoder = OrdinalEncoder()\n",
    "X['new_edu_level'] = encoder.fit_transform(X.edu_level.values.reshape(-1,1))\n",
    "print(X)"
   ]
  },
  {
   "cell_type": "markdown",
   "id": "4612b551-b59c-4866-a521-feee949551dd",
   "metadata": {},
   "source": [
    "ปัญหาคือ NaN มีค่ามากกว่า ระดับการศึกษาอื่น แบบนี้ไม่ถูกต้อง เรามาแก้ไขกัน"
   ]
  },
  {
   "cell_type": "markdown",
   "id": "ea0ebb0d-1bc0-4151-895f-266686ac8b32",
   "metadata": {},
   "source": [
    "# กําหนด category ก่อน encode\n",
    "กลับไปสร้างข้อมูลเหมือนในหน้า 5 ก่อนนะ แล้วค่อยสร้าง category โดยเรียงลําดับ"
   ]
  },
  {
   "cell_type": "code",
   "execution_count": 61,
   "id": "7958e9b3-7e84-49b1-a169-8b9c3b87c51b",
   "metadata": {},
   "outputs": [
    {
     "name": "stdout",
     "output_type": "stream",
     "text": [
      "['medium', 'high', 'high', 'low', NaN]\n",
      "Categories (4, object): ['missing' < 'low' < 'medium' < 'high']\n"
     ]
    }
   ],
   "source": [
    "cat = pd.Categorical(X.edu_level,categories=['missing', 'low','medium', 'high'],ordered=True)\n",
    "print(cat)"
   ]
  },
  {
   "cell_type": "markdown",
   "id": "590965f2-029d-49a7-a8ba-a66eefb440bd",
   "metadata": {},
   "source": [
    "# แปลงข้อมูล NaN เป็น ‘missing’ ก่อน\n",
    "ใน category เราระบุ ‘missing’ ไว้ ดังนั้นเราแปลงข้อมูล NaN เป็น ‘missing’"
   ]
  },
  {
   "cell_type": "code",
   "execution_count": 62,
   "id": "71ced3dc-47d4-4343-9f84-7b503440eea1",
   "metadata": {},
   "outputs": [
    {
     "name": "stdout",
     "output_type": "stream",
     "text": [
      "['medium', 'high', 'high', 'low', 'missing']\n",
      "Categories (4, object): ['missing' < 'low' < 'medium' < 'high']\n"
     ]
    }
   ],
   "source": [
    "cat = cat.fillna('missing')\n",
    "print(cat)"
   ]
  },
  {
   "cell_type": "markdown",
   "id": "10767a3f-7963-4b11-ad89-717aecc29950",
   "metadata": {},
   "source": [
    "# ทําการแปลงข้อมูลประเภทเป็นตัวเลข\n",
    "กําหนดตัวเลขให้กับ category data ตาม category ที่เรากําหนดก่อนหน้า"
   ]
  },
  {
   "cell_type": "code",
   "execution_count": 63,
   "id": "aa2fb8c9-406d-4d82-ab94-f1e43abf317b",
   "metadata": {},
   "outputs": [
    {
     "name": "stdout",
     "output_type": "stream",
     "text": [
      "  sex blood_type  edu_level  new_edu_level\n",
      "0   M         O-          2            2.0\n",
      "1   M         O-          3            0.0\n",
      "2   F         O+          3            0.0\n",
      "3   F         AB          1            1.0\n",
      "4   F         B+          0            3.0\n"
     ]
    }
   ],
   "source": [
    "labels, unique = pd.factorize(cat, sort=True)\n",
    "X.edu_level = labels\n",
    "print(X)"
   ]
  },
  {
   "cell_type": "markdown",
   "id": "3fe1eb55-4890-4a4d-a45a-b62a95fee7d9",
   "metadata": {},
   "source": [
    "# มาทํา OneHot Encode กันเถอะ\n",
    "เริ่มจากเราต้อง import ไลบราลี OneHotEncoder สําหรับการเข้ารหัสตัวเลข"
   ]
  },
  {
   "cell_type": "code",
   "execution_count": 64,
   "id": "87360a2d-5c95-48e9-a2a1-af9731a1b89a",
   "metadata": {},
   "outputs": [],
   "source": [
    "from sklearn.preprocessing import OneHotEncoder"
   ]
  },
  {
   "cell_type": "markdown",
   "id": "382cd099-3964-4276-a8d7-909883c51540",
   "metadata": {},
   "source": [
    "ทําการสร้าง instance ของคลาส OneHotEncoder ก่อน แล้วเรียก fit_transform()"
   ]
  },
  {
   "cell_type": "code",
   "execution_count": 76,
   "id": "214e5243-60a1-48f5-848d-4fa23b86cf03",
   "metadata": {},
   "outputs": [
    {
     "name": "stdout",
     "output_type": "stream",
     "text": [
      "   F  M  AB  B+  O+  O-  edu_level\n",
      "0  0  1   0   0   0   1          2\n",
      "1  0  1   0   0   0   1          3\n",
      "2  1  0   0   0   1   0          3\n",
      "3  1  0   1   0   0   0          1\n",
      "4  1  0   0   1   0   0          0\n"
     ]
    }
   ],
   "source": [
    "onehot = OneHotEncoder(dtype=np.int64, sparse_output=True)\n",
    "nominals = pd.DataFrame(\n",
    " onehot.fit_transform(X[['sex', 'blood_type']])\\\n",
    " .toarray(),\n",
    " columns=['F', 'M', 'AB', 'B+','O+', 'O-'])\n",
    "nominals['edu_level'] = X.edu_level\n",
    "print(nominals)"
   ]
  },
  {
   "cell_type": "markdown",
   "id": "9479bf4e-c235-4990-9e44-ef49b6edee19",
   "metadata": {},
   "source": [
    "ในเวอร์ชันล่าสุดของ scikit-learn ตัวพารามิเตอร์ sparse ได้ถูกเปลี่ยนชื่อเป็น sparse_output คุณจะต้องอัปเดตโค้ดของคุณให้ใช้ sparse_output แทน sparse"
   ]
  },
  {
   "cell_type": "code",
   "execution_count": 65,
   "id": "ac2c52f4-c7ca-4ee2-855e-79b0ca52b65c",
   "metadata": {},
   "outputs": [
    {
     "name": "stdout",
     "output_type": "stream",
     "text": [
      "   F  M  AB  B+  O+  O-  edu_level\n",
      "0  0  1   0   0   0   1          2\n",
      "1  0  1   0   0   0   1          3\n",
      "2  1  0   0   0   1   0          3\n",
      "3  1  0   1   0   0   0          1\n",
      "4  1  0   0   1   0   0          0\n"
     ]
    }
   ],
   "source": [
    "onehot = OneHotEncoder(dtype=int,  sparse_output=True)\n",
    "nominals = pd.DataFrame(\n",
    "    onehot.fit_transform(X[['sex', 'blood_type']]).toarray(),\n",
    "    columns=['F', 'M', 'AB', 'B+','O+', 'O-'])\n",
    "nominals['edu_level'] = X.edu_level\n",
    "print(nominals)"
   ]
  },
  {
   "cell_type": "markdown",
   "id": "301de2a5-4069-4320-8249-8e952fb78075",
   "metadata": {},
   "source": [
    "เกิด column ตามที่เรากําหนด\n",
    "F , M\n",
    "AB, B+, O+, O"
   ]
  },
  {
   "cell_type": "markdown",
   "id": "36b3d2b4-176f-4925-8535-8f198e5413ee",
   "metadata": {},
   "source": [
    "# Method 1: Using Pandas and Numpy"
   ]
  },
  {
   "cell_type": "code",
   "execution_count": 66,
   "id": "1da9137a-9b35-4c09-8172-d5c563f9d030",
   "metadata": {},
   "outputs": [
    {
     "name": "stdout",
     "output_type": "stream",
     "text": [
      "Original Dataset\n"
     ]
    },
    {
     "data": {
      "text/html": [
       "<div>\n",
       "<style scoped>\n",
       "    .dataframe tbody tr th:only-of-type {\n",
       "        vertical-align: middle;\n",
       "    }\n",
       "\n",
       "    .dataframe tbody tr th {\n",
       "        vertical-align: top;\n",
       "    }\n",
       "\n",
       "    .dataframe thead th {\n",
       "        text-align: right;\n",
       "    }\n",
       "</style>\n",
       "<table border=\"1\" class=\"dataframe\">\n",
       "  <thead>\n",
       "    <tr style=\"text-align: right;\">\n",
       "      <th></th>\n",
       "      <th>sepal_length</th>\n",
       "      <th>sepal_width</th>\n",
       "      <th>petal_length</th>\n",
       "      <th>petal_width</th>\n",
       "      <th>species</th>\n",
       "    </tr>\n",
       "  </thead>\n",
       "  <tbody>\n",
       "    <tr>\n",
       "      <th>0</th>\n",
       "      <td>5.1</td>\n",
       "      <td>3.5</td>\n",
       "      <td>1.4</td>\n",
       "      <td>0.2</td>\n",
       "      <td>setosa</td>\n",
       "    </tr>\n",
       "    <tr>\n",
       "      <th>1</th>\n",
       "      <td>4.9</td>\n",
       "      <td>3.0</td>\n",
       "      <td>1.4</td>\n",
       "      <td>0.2</td>\n",
       "      <td>setosa</td>\n",
       "    </tr>\n",
       "    <tr>\n",
       "      <th>2</th>\n",
       "      <td>4.7</td>\n",
       "      <td>3.2</td>\n",
       "      <td>1.3</td>\n",
       "      <td>0.2</td>\n",
       "      <td>setosa</td>\n",
       "    </tr>\n",
       "    <tr>\n",
       "      <th>3</th>\n",
       "      <td>4.6</td>\n",
       "      <td>3.1</td>\n",
       "      <td>1.5</td>\n",
       "      <td>0.2</td>\n",
       "      <td>setosa</td>\n",
       "    </tr>\n",
       "    <tr>\n",
       "      <th>4</th>\n",
       "      <td>5.0</td>\n",
       "      <td>3.6</td>\n",
       "      <td>1.4</td>\n",
       "      <td>0.2</td>\n",
       "      <td>setosa</td>\n",
       "    </tr>\n",
       "  </tbody>\n",
       "</table>\n",
       "</div>"
      ],
      "text/plain": [
       "   sepal_length  sepal_width  petal_length  petal_width species\n",
       "0           5.1          3.5           1.4          0.2  setosa\n",
       "1           4.9          3.0           1.4          0.2  setosa\n",
       "2           4.7          3.2           1.3          0.2  setosa\n",
       "3           4.6          3.1           1.5          0.2  setosa\n",
       "4           5.0          3.6           1.4          0.2  setosa"
      ]
     },
     "execution_count": 66,
     "metadata": {},
     "output_type": "execute_result"
    }
   ],
   "source": [
    "import seaborn as sns\n",
    "import pandas as pd\n",
    "import numpy as np\n",
    "\n",
    "data = sns.load_dataset('iris')\n",
    "print('Original Dataset')\n",
    "data.head()"
   ]
  },
  {
   "cell_type": "code",
   "execution_count": 67,
   "id": "d2207eba-b793-4d75-bb83-8bcccc424bf9",
   "metadata": {},
   "outputs": [
    {
     "name": "stdout",
     "output_type": "stream",
     "text": [
      "Scaled Dataset Using Pandas\n"
     ]
    },
    {
     "data": {
      "text/html": [
       "<div>\n",
       "<style scoped>\n",
       "    .dataframe tbody tr th:only-of-type {\n",
       "        vertical-align: middle;\n",
       "    }\n",
       "\n",
       "    .dataframe tbody tr th {\n",
       "        vertical-align: top;\n",
       "    }\n",
       "\n",
       "    .dataframe thead th {\n",
       "        text-align: right;\n",
       "    }\n",
       "</style>\n",
       "<table border=\"1\" class=\"dataframe\">\n",
       "  <thead>\n",
       "    <tr style=\"text-align: right;\">\n",
       "      <th></th>\n",
       "      <th>sepal_length</th>\n",
       "      <th>sepal_width</th>\n",
       "      <th>petal_length</th>\n",
       "      <th>petal_width</th>\n",
       "      <th>species</th>\n",
       "    </tr>\n",
       "  </thead>\n",
       "  <tbody>\n",
       "    <tr>\n",
       "      <th>0</th>\n",
       "      <td>0.222222</td>\n",
       "      <td>0.625000</td>\n",
       "      <td>0.067797</td>\n",
       "      <td>0.041667</td>\n",
       "      <td>setosa</td>\n",
       "    </tr>\n",
       "    <tr>\n",
       "      <th>1</th>\n",
       "      <td>0.166667</td>\n",
       "      <td>0.416667</td>\n",
       "      <td>0.067797</td>\n",
       "      <td>0.041667</td>\n",
       "      <td>setosa</td>\n",
       "    </tr>\n",
       "    <tr>\n",
       "      <th>2</th>\n",
       "      <td>0.111111</td>\n",
       "      <td>0.500000</td>\n",
       "      <td>0.050847</td>\n",
       "      <td>0.041667</td>\n",
       "      <td>setosa</td>\n",
       "    </tr>\n",
       "    <tr>\n",
       "      <th>3</th>\n",
       "      <td>0.083333</td>\n",
       "      <td>0.458333</td>\n",
       "      <td>0.084746</td>\n",
       "      <td>0.041667</td>\n",
       "      <td>setosa</td>\n",
       "    </tr>\n",
       "    <tr>\n",
       "      <th>4</th>\n",
       "      <td>0.194444</td>\n",
       "      <td>0.666667</td>\n",
       "      <td>0.067797</td>\n",
       "      <td>0.041667</td>\n",
       "      <td>setosa</td>\n",
       "    </tr>\n",
       "  </tbody>\n",
       "</table>\n",
       "</div>"
      ],
      "text/plain": [
       "   sepal_length  sepal_width  petal_length  petal_width species\n",
       "0      0.222222     0.625000      0.067797     0.041667  setosa\n",
       "1      0.166667     0.416667      0.067797     0.041667  setosa\n",
       "2      0.111111     0.500000      0.050847     0.041667  setosa\n",
       "3      0.083333     0.458333      0.084746     0.041667  setosa\n",
       "4      0.194444     0.666667      0.067797     0.041667  setosa"
      ]
     },
     "execution_count": 67,
     "metadata": {},
     "output_type": "execute_result"
    }
   ],
   "source": [
    "# Min-Max Normalization\n",
    "df = data.drop('species', axis=1)\n",
    "df_norm = (df-df.min())/(df.max()-df.min())\n",
    "\n",
    "df_norm = pd.concat((df_norm, data.species), axis=1)\n",
    "print(\"Scaled Dataset Using Pandas\")\n",
    "df_norm.head() "
   ]
  },
  {
   "cell_type": "markdown",
   "id": "038a22b6-923c-4226-b9ee-7c1fe73452a0",
   "metadata": {},
   "source": [
    "# Method 2: Using MinMaxScaler from sklearn"
   ]
  },
  {
   "cell_type": "code",
   "execution_count": 68,
   "id": "fa91066e-aba0-43d4-a9cb-92e62c967be7",
   "metadata": {},
   "outputs": [
    {
     "name": "stdout",
     "output_type": "stream",
     "text": [
      "Original Dataset\n"
     ]
    },
    {
     "data": {
      "text/html": [
       "<div>\n",
       "<style scoped>\n",
       "    .dataframe tbody tr th:only-of-type {\n",
       "        vertical-align: middle;\n",
       "    }\n",
       "\n",
       "    .dataframe tbody tr th {\n",
       "        vertical-align: top;\n",
       "    }\n",
       "\n",
       "    .dataframe thead th {\n",
       "        text-align: right;\n",
       "    }\n",
       "</style>\n",
       "<table border=\"1\" class=\"dataframe\">\n",
       "  <thead>\n",
       "    <tr style=\"text-align: right;\">\n",
       "      <th></th>\n",
       "      <th>sepal_length</th>\n",
       "      <th>sepal_width</th>\n",
       "      <th>petal_length</th>\n",
       "      <th>petal_width</th>\n",
       "      <th>species</th>\n",
       "    </tr>\n",
       "  </thead>\n",
       "  <tbody>\n",
       "    <tr>\n",
       "      <th>0</th>\n",
       "      <td>5.1</td>\n",
       "      <td>3.5</td>\n",
       "      <td>1.4</td>\n",
       "      <td>0.2</td>\n",
       "      <td>setosa</td>\n",
       "    </tr>\n",
       "    <tr>\n",
       "      <th>1</th>\n",
       "      <td>4.9</td>\n",
       "      <td>3.0</td>\n",
       "      <td>1.4</td>\n",
       "      <td>0.2</td>\n",
       "      <td>setosa</td>\n",
       "    </tr>\n",
       "    <tr>\n",
       "      <th>2</th>\n",
       "      <td>4.7</td>\n",
       "      <td>3.2</td>\n",
       "      <td>1.3</td>\n",
       "      <td>0.2</td>\n",
       "      <td>setosa</td>\n",
       "    </tr>\n",
       "    <tr>\n",
       "      <th>3</th>\n",
       "      <td>4.6</td>\n",
       "      <td>3.1</td>\n",
       "      <td>1.5</td>\n",
       "      <td>0.2</td>\n",
       "      <td>setosa</td>\n",
       "    </tr>\n",
       "    <tr>\n",
       "      <th>4</th>\n",
       "      <td>5.0</td>\n",
       "      <td>3.6</td>\n",
       "      <td>1.4</td>\n",
       "      <td>0.2</td>\n",
       "      <td>setosa</td>\n",
       "    </tr>\n",
       "  </tbody>\n",
       "</table>\n",
       "</div>"
      ],
      "text/plain": [
       "   sepal_length  sepal_width  petal_length  petal_width species\n",
       "0           5.1          3.5           1.4          0.2  setosa\n",
       "1           4.9          3.0           1.4          0.2  setosa\n",
       "2           4.7          3.2           1.3          0.2  setosa\n",
       "3           4.6          3.1           1.5          0.2  setosa\n",
       "4           5.0          3.6           1.4          0.2  setosa"
      ]
     },
     "execution_count": 68,
     "metadata": {},
     "output_type": "execute_result"
    }
   ],
   "source": [
    "import seaborn as sns\n",
    "from sklearn.preprocessing import MinMaxScaler\n",
    "import pandas as pd\n",
    "data = sns.load_dataset('iris')\n",
    "print('Original Dataset')\n",
    "data.head()"
   ]
  },
  {
   "cell_type": "code",
   "execution_count": 69,
   "id": "1845819a-3de1-4bf7-ad42-8fd685116a86",
   "metadata": {},
   "outputs": [
    {
     "name": "stdout",
     "output_type": "stream",
     "text": [
      "Scaled Dataset Using MinMaxScaler\n"
     ]
    },
    {
     "data": {
      "text/html": [
       "<div>\n",
       "<style scoped>\n",
       "    .dataframe tbody tr th:only-of-type {\n",
       "        vertical-align: middle;\n",
       "    }\n",
       "\n",
       "    .dataframe tbody tr th {\n",
       "        vertical-align: top;\n",
       "    }\n",
       "\n",
       "    .dataframe thead th {\n",
       "        text-align: right;\n",
       "    }\n",
       "</style>\n",
       "<table border=\"1\" class=\"dataframe\">\n",
       "  <thead>\n",
       "    <tr style=\"text-align: right;\">\n",
       "      <th></th>\n",
       "      <th>sepal_length</th>\n",
       "      <th>sepal_width</th>\n",
       "      <th>petal_length</th>\n",
       "      <th>petal_width</th>\n",
       "    </tr>\n",
       "  </thead>\n",
       "  <tbody>\n",
       "    <tr>\n",
       "      <th>0</th>\n",
       "      <td>0.222222</td>\n",
       "      <td>0.625000</td>\n",
       "      <td>0.067797</td>\n",
       "      <td>0.041667</td>\n",
       "    </tr>\n",
       "    <tr>\n",
       "      <th>1</th>\n",
       "      <td>0.166667</td>\n",
       "      <td>0.416667</td>\n",
       "      <td>0.067797</td>\n",
       "      <td>0.041667</td>\n",
       "    </tr>\n",
       "    <tr>\n",
       "      <th>2</th>\n",
       "      <td>0.111111</td>\n",
       "      <td>0.500000</td>\n",
       "      <td>0.050847</td>\n",
       "      <td>0.041667</td>\n",
       "    </tr>\n",
       "    <tr>\n",
       "      <th>3</th>\n",
       "      <td>0.083333</td>\n",
       "      <td>0.458333</td>\n",
       "      <td>0.084746</td>\n",
       "      <td>0.041667</td>\n",
       "    </tr>\n",
       "    <tr>\n",
       "      <th>4</th>\n",
       "      <td>0.194444</td>\n",
       "      <td>0.666667</td>\n",
       "      <td>0.067797</td>\n",
       "      <td>0.041667</td>\n",
       "    </tr>\n",
       "  </tbody>\n",
       "</table>\n",
       "</div>"
      ],
      "text/plain": [
       "   sepal_length  sepal_width  petal_length  petal_width\n",
       "0      0.222222     0.625000      0.067797     0.041667\n",
       "1      0.166667     0.416667      0.067797     0.041667\n",
       "2      0.111111     0.500000      0.050847     0.041667\n",
       "3      0.083333     0.458333      0.084746     0.041667\n",
       "4      0.194444     0.666667      0.067797     0.041667"
      ]
     },
     "execution_count": 69,
     "metadata": {},
     "output_type": "execute_result"
    }
   ],
   "source": [
    "scaler = MinMaxScaler()\n",
    "df_scaled = scaler.fit_transform(df.to_numpy())\n",
    "df_scaled = pd.DataFrame(df_scaled, columns=[\n",
    "'sepal_length', 'sepal_width', 'petal_length', 'petal_width'])\n",
    "print(\"Scaled Dataset Using MinMaxScaler\")\n",
    "df_scaled.head()"
   ]
  },
  {
   "cell_type": "markdown",
   "id": "6bba6608-2c64-46a1-8755-5f5ffcc7f54b",
   "metadata": {},
   "source": [
    "# Standardization"
   ]
  },
  {
   "cell_type": "code",
   "execution_count": 70,
   "id": "376f166e-94e0-479e-a64a-d851f7ec4763",
   "metadata": {},
   "outputs": [
    {
     "name": "stdout",
     "output_type": "stream",
     "text": [
      "Original Dataset\n",
      "Scaled Dataset Using StandardScaler\n"
     ]
    },
    {
     "data": {
      "text/html": [
       "<div>\n",
       "<style scoped>\n",
       "    .dataframe tbody tr th:only-of-type {\n",
       "        vertical-align: middle;\n",
       "    }\n",
       "\n",
       "    .dataframe tbody tr th {\n",
       "        vertical-align: top;\n",
       "    }\n",
       "\n",
       "    .dataframe thead th {\n",
       "        text-align: right;\n",
       "    }\n",
       "</style>\n",
       "<table border=\"1\" class=\"dataframe\">\n",
       "  <thead>\n",
       "    <tr style=\"text-align: right;\">\n",
       "      <th></th>\n",
       "      <th>sepal_length</th>\n",
       "      <th>sepal_width</th>\n",
       "      <th>petal_length</th>\n",
       "      <th>petal_width</th>\n",
       "    </tr>\n",
       "  </thead>\n",
       "  <tbody>\n",
       "    <tr>\n",
       "      <th>0</th>\n",
       "      <td>-0.900681</td>\n",
       "      <td>1.019004</td>\n",
       "      <td>-1.340227</td>\n",
       "      <td>-1.315444</td>\n",
       "    </tr>\n",
       "    <tr>\n",
       "      <th>1</th>\n",
       "      <td>-1.143017</td>\n",
       "      <td>-0.131979</td>\n",
       "      <td>-1.340227</td>\n",
       "      <td>-1.315444</td>\n",
       "    </tr>\n",
       "    <tr>\n",
       "      <th>2</th>\n",
       "      <td>-1.385353</td>\n",
       "      <td>0.328414</td>\n",
       "      <td>-1.397064</td>\n",
       "      <td>-1.315444</td>\n",
       "    </tr>\n",
       "    <tr>\n",
       "      <th>3</th>\n",
       "      <td>-1.506521</td>\n",
       "      <td>0.098217</td>\n",
       "      <td>-1.283389</td>\n",
       "      <td>-1.315444</td>\n",
       "    </tr>\n",
       "    <tr>\n",
       "      <th>4</th>\n",
       "      <td>-1.021849</td>\n",
       "      <td>1.249201</td>\n",
       "      <td>-1.340227</td>\n",
       "      <td>-1.315444</td>\n",
       "    </tr>\n",
       "  </tbody>\n",
       "</table>\n",
       "</div>"
      ],
      "text/plain": [
       "   sepal_length  sepal_width  petal_length  petal_width\n",
       "0     -0.900681     1.019004     -1.340227    -1.315444\n",
       "1     -1.143017    -0.131979     -1.340227    -1.315444\n",
       "2     -1.385353     0.328414     -1.397064    -1.315444\n",
       "3     -1.506521     0.098217     -1.283389    -1.315444\n",
       "4     -1.021849     1.249201     -1.340227    -1.315444"
      ]
     },
     "execution_count": 70,
     "metadata": {},
     "output_type": "execute_result"
    }
   ],
   "source": [
    "import pandas as pd\n",
    "from sklearn.preprocessing import StandardScaler\n",
    "import seaborn as sns\n",
    "data = sns.load_dataset('iris')\n",
    "print('Original Dataset')\n",
    "data.head()\n",
    "std_scaler = StandardScaler()\n",
    "df_scaled = std_scaler.fit_transform(df.to_numpy())\n",
    "df_scaled = pd.DataFrame(df_scaled, columns=[\n",
    "'sepal_length','sepal_width','petal_length','petal_width'])\n",
    "print(\"Scaled Dataset Using StandardScaler\")\n",
    "df_scaled.head()"
   ]
  },
  {
   "cell_type": "code",
   "execution_count": null,
   "id": "69b6503b-f551-4d2e-b229-7cf2ac1b65eb",
   "metadata": {},
   "outputs": [],
   "source": []
  }
 ],
 "metadata": {
  "kernelspec": {
   "display_name": "Python 3 (ipykernel)",
   "language": "python",
   "name": "python3"
  },
  "language_info": {
   "codemirror_mode": {
    "name": "ipython",
    "version": 3
   },
   "file_extension": ".py",
   "mimetype": "text/x-python",
   "name": "python",
   "nbconvert_exporter": "python",
   "pygments_lexer": "ipython3",
   "version": "3.11.7"
  }
 },
 "nbformat": 4,
 "nbformat_minor": 5
}
